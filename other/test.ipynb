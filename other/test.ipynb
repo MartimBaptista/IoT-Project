{
 "cells": [
  {
   "cell_type": "code",
   "execution_count": 24,
   "metadata": {},
   "outputs": [
    {
     "name": "stdout",
     "output_type": "stream",
     "text": [
      "[0.]\n",
      "[[0.51265314 0.42192056 0.69449955 0.46982203 0.46966992 0.31573975]]\n"
     ]
    }
   ],
   "source": [
    "import joblib\n",
    "import pandas as pd\n",
    "import numpy as np\n",
    "\n",
    "from sklearn.neighbors import KNeighborsClassifier\n",
    "\n",
    "def scale01(x):\n",
    "  return (x - x.min())/(x.max() - x.min())\n",
    "\n",
    "data = np.array(pd.read_csv('data/trainning.data', delimiter=';').values[: , 2:], dtype = float)\n",
    "(N, d) = data.shape\n",
    "\n",
    "#Scaling data\n",
    "for var in range(1, 7):\n",
    "    data[:, var] = scale01(data[:, var])\n",
    "\n",
    "#Spliting Data into inputs (gyro scope data)\n",
    "inputs = data[:, 1:]\n",
    "outputs = data[:, 0]\n",
    "\n",
    "#Fitting the model\n",
    "KNN = KNeighborsClassifier(n_neighbors = 6, weights = 'distance')\n",
    "KNN.fit(inputs, outputs)\n",
    "\n",
    "#Saving the model\n",
    "joblib.dump(KNN, 'model/KKN.dat.gz')\n",
    "\n",
    "#-----------------------------------------------------------#\n",
    "\n",
    "model = joblib.load('model/KKN.dat.gz')\n",
    "\n",
    "print(model.predict(inputs[0:1 , :]))\n",
    "print(inputs[0:1 , :])\n"
   ]
  }
 ],
 "metadata": {
  "kernelspec": {
   "display_name": "base",
   "language": "python",
   "name": "python3"
  },
  "language_info": {
   "codemirror_mode": {
    "name": "ipython",
    "version": 3
   },
   "file_extension": ".py",
   "mimetype": "text/x-python",
   "name": "python",
   "nbconvert_exporter": "python",
   "pygments_lexer": "ipython3",
   "version": "3.9.12"
  }
 },
 "nbformat": 4,
 "nbformat_minor": 2
}
